{
 "cells": [
  {
   "cell_type": "code",
   "execution_count": 1,
   "metadata": {},
   "outputs": [],
   "source": [
    "import jax\n",
    "import jax.numpy as jnp\n",
    "import numpyro.distributions as dist\n",
    "import matplotlib.pyplot as plt\n",
    "from berrylib.constants import Y_I, Y_I2, N_I, N_I2"
   ]
  },
  {
   "cell_type": "markdown",
   "metadata": {},
   "source": [
    "# Utility Functions"
   ]
  },
  {
   "cell_type": "code",
   "execution_count": 2,
   "metadata": {},
   "outputs": [],
   "source": [
    "def logit(x):\n",
    "    return jnp.log(x) - jnp.log(1 - x)\n",
    "\n",
    "\n",
    "def log_normal_pdf(x, mu=0, sigma=1):\n",
    "    return -0.5 * ((x - mu) / sigma) ** 2 - 0.5 * jnp.log(2 * jnp.pi) - jnp.log(sigma)\n",
    "\n",
    "\n",
    "def log_normal_cdf(x):\n",
    "    return jnp.log(0.5) + jnp.log(1 + jax.lax.erf(x / jnp.sqrt(2)))\n",
    "\n",
    "\n",
    "def log_skew_normal_pdf(x, xi, omega, a):\n",
    "    xt = (x - xi) / omega\n",
    "    return jnp.log(2) - jnp.log(omega) + log_normal_pdf(xt) + log_normal_cdf(a * xt)\n"
   ]
  },
  {
   "cell_type": "code",
   "execution_count": 3,
   "metadata": {},
   "outputs": [],
   "source": [
    "def get_log_berry_likelihood(y, n):\n",
    "    def log_berry_likelihood(vars):\n",
    "        theta = vars[:4]\n",
    "        # TODO: can mu be eliminated?\n",
    "        mu = vars[4]\n",
    "        sigma_sq = jnp.abs(vars[5])\n",
    "        ll = 0.0\n",
    "        ll += dist.Normal(-1.34, 10).log_prob(mu)\n",
    "        ll += dist.InverseGamma(0.0005, 0.000005).log_prob(sigma_sq)\n",
    "        ll += dist.Normal(mu, jax.numpy.sqrt(sigma_sq)).log_prob(theta).sum()\n",
    "        ll += dist.BinomialLogits(theta+logit(0.3), total_count=n).log_prob(y).sum()\n",
    "        return ll\n",
    "\n",
    "    return log_berry_likelihood\n"
   ]
  },
  {
   "cell_type": "code",
   "execution_count": 4,
   "metadata": {},
   "outputs": [],
   "source": [
    "y = Y_I2[-1]\n",
    "n = N_I2[-1]\n",
    "log_berry_likelihood = get_log_berry_likelihood(y, n)\n",
    "grad = jax.grad(log_berry_likelihood, 0)\n",
    "hess = jax.jacobian(grad)"
   ]
  },
  {
   "cell_type": "markdown",
   "metadata": {},
   "source": [
    "# MCMC"
   ]
  },
  {
   "cell_type": "code",
   "execution_count": 5,
   "metadata": {},
   "outputs": [
    {
     "name": "stderr",
     "output_type": "stream",
     "text": [
      "/home/const/.local/share/virtualenvs/research-DsWMXX3y/lib/python3.8/site-packages/jax/_src/tree_util.py:185: FutureWarning: jax.tree_util.tree_multimap() is deprecated. Please use jax.tree_util.tree_map() instead as a drop-in replacement.\n",
      "  warnings.warn('jax.tree_util.tree_multimap() is deprecated. Please use jax.tree_util.tree_map() '\n"
     ]
    }
   ],
   "source": [
    "import jax\n",
    "import numpy as np\n",
    "import numpyro\n",
    "\n",
    "# numpyro.enable_x64(True)\n",
    "import numpyro.distributions as dist\n",
    "from numpyro.infer import MCMC, NUTS\n",
    "\n",
    "\n",
    "def mcmc_berry_model(y, n):\n",
    "    mu = numpyro.sample(\"mu\", dist.Normal(-1.34, 10))\n",
    "    sigma2 = numpyro.sample(\"sigma2\", dist.InverseGamma(0.0005, 0.000005), obs=100)\n",
    "    with numpyro.plate(\"j\", 4):\n",
    "        theta = numpyro.sample(\n",
    "            \"theta\",\n",
    "            dist.Normal(mu, jax.numpy.sqrt(sigma2)),\n",
    "        )\n",
    "        numpyro.sample(\n",
    "            \"y\",\n",
    "            dist.BinomialLogits(theta + (np.log(0.3) - np.log(1 - 0.3)), total_count=n),\n",
    "            obs=y,\n",
    "        )\n",
    "\n",
    "\n",
    "def do_mcmc(rng_key, y, n):\n",
    "    nuts_args = dict(step_size=0.02, adapt_step_size=False)\n",
    "    nuts_kernel = NUTS(mcmc_berry_model, **nuts_args)\n",
    "    mcmc = MCMC(\n",
    "        nuts_kernel,\n",
    "        progress_bar=False,\n",
    "        num_warmup=10_000,\n",
    "        num_samples=1_000_000,\n",
    "        thinning=10,\n",
    "    )\n",
    "    mcmc.run(rng_key, y, n)\n",
    "    return mcmc.get_samples(group_by_chain=True)\n",
    "\n",
    "\n",
    "s1 = do_mcmc(jax.random.PRNGKey(0), Y_I2[-1], N_I2[-1])\n"
   ]
  },
  {
   "cell_type": "code",
   "execution_count": 17,
   "metadata": {},
   "outputs": [
    {
     "name": "stdout",
     "output_type": "stream",
     "text": [
      "-10.9564495\n",
      "-2.6519206\n",
      "-0.25494152\n",
      "-0.10339418\n"
     ]
    },
    {
     "data": {
      "image/png": "[encoded data removed]",
      "text/plain": [
       "<Figure size 576x576 with 4 Axes>"
      ]
     },
     "metadata": {
      "needs_background": "light"
     },
     "output_type": "display_data"
    }
   ],
   "source": [
    "def winsorize(x, q=0.999):\n",
    "    p = jnp.quantile(x, np.array([1 - q, q]))\n",
    "    return jnp.clip(x, p[0], p[1])\n",
    "\n",
    "\n",
    "fig, axes = plt.subplots(2, 2, figsize=(8, 8))\n",
    "for i, ax in enumerate(axes.reshape(-1)):\n",
    "    t = s1[\"theta\"][:, :, i]\n",
    "    t = winsorize(t)\n",
    "    print(np.mean(t))\n",
    "    ax.hist(t, bins=100,  density=True)\n",
    "    ax.set_title(f\"$\\\\theta_{i}$ posterior\")\n",
    "    ax.set_xlim(-30, 1)\n",
    "None"
   ]
  },
  {
   "cell_type": "markdown",
   "metadata": {},
   "source": [
    "# MAP/Mode Estimation"
   ]
  },
  {
   "cell_type": "code",
   "execution_count": 7,
   "metadata": {},
   "outputs": [],
   "source": [
    "N_ARMS = 4\n",
    "\n",
    "\n",
    "def pack_vars(theta, mu, sigma):\n",
    "    return jnp.concatenate([theta, mu, sigma])\n",
    "\n",
    "\n",
    "def unpack_vars(vars):\n",
    "    return vars[:N_ARMS], vars[N_ARMS], vars[N_ARMS + 1]\n",
    "\n",
    "\n",
    "# @jax.jit\n",
    "def optimize(theta, sigma2, mask):\n",
    "    \"\"\"Find the mode/MAP of the posterior distribution of theta given y, n, sigma2.\n",
    "    \n",
    "    Mask is an array of indices of theta to be optimized.\n",
    "    \"\"\"\n",
    "    log_berry_likelihood = get_log_berry_likelihood(Y_I2[-1], N_I2[-1])\n",
    "    grad = jax.grad(log_berry_likelihood, 0)\n",
    "    hess = jax.jacobian(grad)\n",
    "    mu = jnp.zeros(1)\n",
    "    sigma2 = jnp.array(sigma2)[jnp.newaxis]\n",
    "    vars = pack_vars(theta, mu, sigma2)\n",
    "\n",
    "    @jax.jit\n",
    "    def iter(vars):\n",
    "        \"\"\"Do a newton iteration.\"\"\"\n",
    "        g = grad(vars)\n",
    "        h = hess(vars)\n",
    "        g = g[mask]\n",
    "        h = h[mask][:, mask]\n",
    "        update = jnp.linalg.solve(h, g)\n",
    "        vars = vars.at[mask].add(-update)\n",
    "        return vars\n",
    "        # assert not jnp.isnan(vars).any()\n",
    "        # print(jnp.linalg.norm(pvars - vars))\n",
    "\n",
    "    for _ in range(50):\n",
    "        vars = iter(vars)\n",
    "    return vars\n",
    "\n",
    "\n",
    "def optimize_all():\n",
    "    sigmas = jnp.power(10, jnp.linspace(-8, 3, 10))\n",
    "    thetas = jnp.linspace(-10, 10, 10)\n",
    "    mask = jnp.s_[1:5]\n",
    "    varss = []\n",
    "    for sigma2 in sigmas:\n",
    "        for theta in thetas:\n",
    "            theta = jnp.zeros(4).at[0].set(theta)\n",
    "            vars = optimize(theta, sigma2, mask)\n",
    "            varss.append(vars)\n",
    "    varss = jnp.stack(varss)\n",
    "    return varss\n"
   ]
  },
  {
   "cell_type": "markdown",
   "metadata": {},
   "source": [
    "# Gaussian Approximation"
   ]
  },
  {
   "cell_type": "code",
   "execution_count": 8,
   "metadata": {},
   "outputs": [
    {
     "name": "stdout",
     "output_type": "stream",
     "text": [
      "[-5.4635363e+00 -2.0944355e+00 -2.1600023e-01 -7.1466066e-02\n",
      " -1.8370875e+00  1.0000000e+02]\n",
      "[[ 2.2403597e+01  4.6226807e-02  7.4408553e-03  7.0213242e-03\n",
      "   4.5207934e+00  2.8100060e+01]\n",
      " [ 4.6226807e-02  1.0414199e+00  3.2843807e-04  3.0764594e-04\n",
      "   2.1777196e-01  1.1609169e-01]\n",
      " [ 7.4408553e-03  3.2843807e-04  1.4957021e-01  4.1906060e-05\n",
      "   3.1394552e-02 -8.2208551e-02]\n",
      " [ 7.0213242e-03  3.0764594e-04  4.1906060e-05  1.3999155e-01\n",
      "   2.9388906e-02 -8.4068984e-02]\n",
      " [ 4.5207934e+00  2.1777196e-01  3.1394552e-02  2.9388906e-02\n",
      "   2.0961967e+01  2.1088638e+00]\n",
      " [ 2.8100058e+01  1.1609168e-01 -8.2208551e-02 -8.4068984e-02\n",
      "   2.1088636e+00 -3.5216223e+03]]\n",
      "-5.4635363 22.403597\n"
     ]
    }
   ],
   "source": [
    "import scipy.stats\n",
    "\n",
    "sigma2 = 100\n",
    "n_arms = 4\n",
    "\n",
    "\n",
    "def gauss_approx(sigma2, arm_i=0):\n",
    "    \"\"\"A gaussian approximation by computing the inverse negative hessian at the mode.\"\"\"\n",
    "    theta = jnp.zeros(4)\n",
    "    mask = jnp.arange(5)\n",
    "    vars = optimize(theta, sigma2, mask)\n",
    "    theta, mu, sigma2 = unpack_vars(vars)\n",
    "    print(vars)\n",
    "    h = np.linalg.inv(-hess(vars))\n",
    "    print(h)\n",
    "    mu = theta[arm_i]\n",
    "    sigma2 = h[arm_i, arm_i]\n",
    "    print(mu, sigma2)\n",
    "\n",
    "    x = jnp.linspace(-40, 10, 100)\n",
    "    y = scipy.stats.norm(mu, np.sqrt(sigma2)).pdf(x)\n",
    "    return x, y\n",
    "\n",
    "\n",
    "x, y = gauss_approx(sigma2)\n"
   ]
  },
  {
   "cell_type": "markdown",
   "metadata": {},
   "source": [
    "# Laplace Approximation"
   ]
  },
  {
   "cell_type": "code",
   "execution_count": 18,
   "metadata": {},
   "outputs": [],
   "source": [
    "def conditional_mu(mu, cov, i, x):\n",
    "    \"\"\"Return the conditional mean a multivariate normal given a particular arm value.\n",
    "    \n",
    "    https://en.wikipedia.org/wiki/Multivariate_normal_distribution#Conditional_distributions\n",
    "    \"\"\"\n",
    "    cov12 = jnp.delete(cov[i], i)\n",
    "    cov22 = cov[i, i]\n",
    "    mu1 = jnp.delete(mu, i)\n",
    "    mu2 = mu[i]\n",
    "    mu_cond = mu1 + cov12 / cov22 * (x - mu2)\n",
    "    return mu_cond\n",
    "\n",
    "\n",
    "def laplace_approx(sigma2, arm_i=0):\n",
    "    \"\"\"Implement the laplace approximation from Page 329 of:\n",
    "    Rue, H., Martino, S., & Chopin, N. (2009). Approximate Bayesian inference for latent Gaussian models by using integrated nested Laplace approximations. Journal of the royal statistical society: Series b (statistical methodology), 71(2), 319-392.\n",
    "    \"\"\"\n",
    "    n_points = 51\n",
    "    # Compute the mode of P(x, | sigma2, y)\n",
    "    theta = jnp.zeros(4)\n",
    "    mask = jnp.arange(5)\n",
    "    vars = optimize(theta, sigma2, mask)\n",
    "\n",
    "    # Compute the gaussian approximation at the mode\n",
    "    theta, mu, sigma2 = unpack_vars(vars)\n",
    "\n",
    "    def gaussian_approx(vars):\n",
    "        h = jnp.linalg.inv(-hess(vars))\n",
    "        theta_mu = vars[arm_i]\n",
    "        theta_sigma2 = h[arm_i, arm_i]\n",
    "        theta_sigma = jnp.sqrt(theta_sigma2)\n",
    "        return theta_mu, theta_sigma, h\n",
    "\n",
    "    theta_mu, theta_sigma, h = gaussian_approx(vars)\n",
    "    cov = h[:n_arms, :n_arms]\n",
    "    # xs, wts = np.polynomial.hermite.hermgauss(n_points)\n",
    "    # xs = xs * theta_sigma * jnp.sqrt(2) + theta_mu\n",
    "    xs = jnp.linspace(-30, 10, 300)\n",
    "\n",
    "    # Store the gaussian approximation\n",
    "    ys1 = jnp.exp(log_normal_pdf(xs, theta_mu, theta_sigma))\n",
    "\n",
    "    not_arm_i = jnp.delete(jnp.arange(n_arms), arm_i)\n",
    "\n",
    "    # For a given x_i, compute the laplace approximation at the conditional mode\n",
    "    def laplace_given_x(x):\n",
    "        nonlocal theta\n",
    "        # Instead of the optimized mode, we use the conditional mean instead\n",
    "        cond_mu = conditional_mu(theta, cov, arm_i, x)\n",
    "        theta_cond = jnp.zeros(4).at[arm_i].set(x).at[not_arm_i].set(cond_mu)\n",
    "        vars = pack_vars(theta_cond, mu[jnp.newaxis], sigma2[jnp.newaxis])\n",
    "\n",
    "        # theta_cond = jnp.zeros(4).at[arm_i].set(x)\n",
    "        # mask = jnp.delete(jnp.arange(5), arm_i)\n",
    "        # vars = optimize(theta_cond, sigma2, mask)\n",
    "\n",
    "        theta_mu, theta_sigma, _ = gaussian_approx(vars)\n",
    "\n",
    "        y = log_berry_likelihood(vars) - log_normal_pdf(x, theta_mu, theta_sigma)\n",
    "        y = jnp.exp(y)\n",
    "        return y\n",
    "\n",
    "    ys = jax.vmap(laplace_given_x)(xs)\n",
    "    # ys = [laplace_given_x(x) for x in xs]\n",
    "    ys = jnp.array(ys)\n",
    "    ys = jnp.nan_to_num(ys)\n",
    "    ys /= jnp.trapz(\n",
    "        ys, xs\n",
    "    )  # FIXME: this is definitely not the right way to find the normalization constant\n",
    "\n",
    "    return xs, ys1, ys\n",
    "\n",
    "\n",
    "arm_i = 0\n",
    "x, y, y2 = laplace_approx(100, arm_i)\n"
   ]
  },
  {
   "cell_type": "code",
   "execution_count": 19,
   "metadata": {},
   "outputs": [
    {
     "data": {
      "image/png": "[encoded data removed]",
      "text/plain": [
       "<Figure size 576x432 with 1 Axes>"
      ]
     },
     "metadata": {
      "needs_background": "light"
     },
     "output_type": "display_data"
    }
   ],
   "source": [
    "samples = s1[\"theta\"][0, :, arm_i]\n",
    "kernel = scipy.stats.gaussian_kde(samples)\n",
    "plt.figure(figsize=(8, 6))\n",
    "plt.plot(x, y, label=\"Normal approximation\", alpha=0.8)\n",
    "plt.plot(x, y2, label=\"Laplace approximation\", alpha=0.8)\n",
    "plt.plot(x, kernel.evaluate(x), label=\"MCMC\", alpha=0.8)\n",
    "plt.ylabel(r\"$P\\left(\\theta_0 | y, \\sigma^2=100 \\right)$\")\n",
    "plt.xlabel(r\"$\\theta_0$\")\n",
    "plt.legend()\n",
    "plt.xlim(-30, 10)\n",
    "None\n"
   ]
  },
  {
   "cell_type": "markdown",
   "metadata": {},
   "source": [
    "# Skew normal (simplified Laplace approximation)\n",
    "\n",
    "This is WIP and doesn't work at all yet."
   ]
  },
  {
   "cell_type": "markdown",
   "metadata": {},
   "source": [
    "### Algebra for the skew normal parameters:"
   ]
  },
  {
   "cell_type": "code",
   "execution_count": 20,
   "metadata": {},
   "outputs": [
    {
     "name": "stdout",
     "output_type": "stream",
     "text": [
      "c = (jnp.sqrt(jnp.pi)*g3**(1/3))/(2**(1/6)*(4 - jnp.pi)**(1/3))\n",
      "w = (jnp.sqrt(jnp.pi)*jnp.sqrt(jnp.pi*c**2 + 2*(jnp.pi - 4)*c + jnp.pi) + jnp.pi*(c - 1))/(2*(jnp.pi - 2)*c)\n",
      "a = w * c\n",
      "d = jnp.sqrt((w*c)**2 * (1 + (w*c)**2))\n"
     ]
    }
   ],
   "source": [
    "def translate(s):\n",
    "    replaces = [\n",
    "        (\"sqrt\", \"jnp.sqrt\"),\n",
    "        (\"^\", \"**\"),\n",
    "        (\"π\", \"jnp.pi\"),\n",
    "    ]\n",
    "    for a, b in replaces:\n",
    "        s = s.replace(a, b)\n",
    "    return s\n",
    "\n",
    "equations = [\n",
    "    \"c = (sqrt(π)*g3^(1/3))/(2^(1/6)*(4 - π)^(1/3))\",\n",
    "    \"w = (sqrt(π)*sqrt(π*c^2 + 2*(π - 4)*c + π) + π*(c - 1))/(2*(π - 2)*c)\",\n",
    "    \"a = w * c\",\n",
    "    \"d = sqrt((w*c)^2 * (1 + (w*c)**2))\"\n",
    "]\n",
    "\n",
    "for e in equations:\n",
    "    print(translate(e))\n",
    "\n",
    "# g1 == ξ + ω * δ * jnp.sqrt(2 / jnp.pi)\n",
    "# 1.0 == ω**2 * (1 - 2 * δ**2 / jnp.pi)\n",
    "# δ == a / jnp.sqrt(1 + a**2)\n",
    "# g3 = (4 - jnp.pi) * jnp.sqrt(2) / jnp.pi ** (3 / 2) * (a / ω) ** 3\n",
    "# \"a/ω = c\"\n",
    "# \"c = (sqrt(π) g3^(1/3))/(2^(1/6) (4 - π)^(1/3))\"\n",
    "# \"δ^2 = (wc)^2 / (1 + (wc)**2)\"\n",
    "# \"1.0 = ω**2 * (1 - 2 * δ**2 / pi)\"\n",
    "# \"w = sqrt(-0.33333/c^2 + 4.7981/(-339.29*c^8 - 129.10*c^6 + sqrt((-339.29*c^8 - 129.10*c^6)^2 - 47719*c^12))^(1/3) + (0.13228*(-339.29*c^8 - 129.10*c^6 + sqrt((-339.29*c^8 - 129.10*c^6)^2 - 47719*c^12))^(1/3))/c^4)\"\n",
    "# \"a = w * c\"\n",
    "# \"d = sqrt((wc)^2 / (1 + (wc)**2))\"\n",
    "    \n"
   ]
  },
  {
   "cell_type": "code",
   "execution_count": 21,
   "metadata": {},
   "outputs": [],
   "source": [
    "n_arms = 4\n",
    "\n",
    "\n",
    "def SQR(x):\n",
    "    return x * x\n",
    "\n",
    "\n",
    "def GMRFLib_2order_poleq(a, b, c):\n",
    "    # /*\n",
    "    #  * solve the equation a*x^2 + b*x + c,\n",
    "    #  *\n",
    "    #  * return the two solutions in sol1 and sol2. return GMRFLib_EMISC if there is complex solutions.\n",
    "    #  */\n",
    "\n",
    "    tmp = SQR(b) - 4.0 * a * c\n",
    "\n",
    "    assert tmp > 0.0\n",
    "\n",
    "    if a == 0:\n",
    "        sol1 = -c / b\n",
    "        sol2 = -c / b\n",
    "    else:\n",
    "        sol1 = (-b + jnp.sqrt(tmp)) / (2.0 * a)\n",
    "        sol2 = (-b - jnp.sqrt(tmp)) / (2.0 * a)\n",
    "    return sol1\n",
    "\n",
    "\n",
    "def get_skew_normal_params(g1, g3):\n",
    "    c = 4.58686951235508 * g3\n",
    "    c = jnp.cbrt(c)\n",
    "    assert not jnp.isnan(c).any()\n",
    "    c2 = c * c\n",
    "    w = (\n",
    "        jnp.sqrt(jnp.pi) * jnp.sqrt(jnp.pi * c2**2 + 2 * (jnp.pi - 4) * c2 + jnp.pi)\n",
    "        + jnp.pi * (c2 - 1)\n",
    "    ) / (2 * (jnp.pi - 2) * c2)\n",
    "    w = jnp.sqrt(w)\n",
    "    assert not jnp.isnan(w).any()\n",
    "    a = w * c\n",
    "    d = a / jnp.sqrt(1 + a * a)\n",
    "    assert not jnp.isnan(d).any()\n",
    "    e = g1 - (w * d * jnp.sqrt(2 / jnp.pi))\n",
    "    return e, w, a\n",
    "\n",
    "\n",
    "def get_skew_normal_params2(deriv_log_dens_cond, third_order_derivative):\n",
    "    a_sigma = jnp.cbrt(third_order_derivative / 0.2180136141449902)\n",
    "    cc = 1.0 / a_sigma\n",
    "    sol1 = GMRFLib_2order_poleq(SQR(cc) * (1.0 - 2.0 / jnp.pi), SQR(cc) - 1.0, -1.0)\n",
    "    alpha = jnp.sqrt(sol1) * (1.0 if third_order_derivative > 0.0 else -1.0)\n",
    "    aa = alpha\n",
    "    tmp = 1.0 / (1.0 - (2.0 / jnp.pi) * SQR(aa) / (1.0 + SQR(aa)))\n",
    "    if tmp > 0.0:\n",
    "        omega = jnp.sqrt(tmp)\n",
    "        xi = -deriv_log_dens_cond - omega * jnp.sqrt(2.0 / jnp.pi) * aa / jnp.sqrt(\n",
    "            1.0 + SQR(aa)\n",
    "        )\n",
    "    return alpha, omega, xi\n",
    "\n",
    "\n",
    "def simple_laplace_approx(sigma2):\n",
    "    theta = jnp.zeros(4)\n",
    "    mask = jnp.s_[0:5]\n",
    "    vars = optimize(theta, sigma2, mask)\n",
    "\n",
    "    theta, mu, sigma2 = unpack_vars(vars)\n",
    "    h = np.linalg.inv(hess(vars))\n",
    "    theta_mu = theta[0]\n",
    "    theta_sigma2 = h[0, 0]\n",
    "    theta_sigma = np.sqrt(theta_sigma2)\n",
    "    # print(\"theta\", theta_mu, theta_sigma2)\n",
    "\n",
    "    d = grad(vars)\n",
    "    d3 = jax.jacobian(hess)(vars)\n",
    "\n",
    "    # deriv_log_dens_cond = 0.0;\n",
    "    # inv_stdev = 1.0 / x_sd;\n",
    "\n",
    "    # for (j = 0; j < ai_store->nidx; j+=1):\n",
    "    #     i = ai_store->correction_idx[j];\n",
    "    #     corr = covariances[i] * inv_stdev / ai_store->stdev[i];\n",
    "    #     corr_term = 1.0 - SQR(corr);\n",
    "    #     deriv_log_dens_cond += ai_store->correction_term[i] * corr_term * derivative[i];\n",
    "    # deriv_log_dens_cond *= x_sd / 2.0;\n",
    "\n",
    "    g3 = d3[0][0][0]\n",
    "    third_order_derivative = 0.0\n",
    "    # for jjj in range(1, 4):\n",
    "    #     third_order_derivative += d3[jjj, jjj, jjj] * (d[jjj])**3\n",
    "    # third_order_derivative *= theta_sigma**3\n",
    "    g1 = d[0]\n",
    "    # g3 = third_order_derivative\n",
    "    # return g1, g3\n",
    "    print(\"g\", g1, g3)\n",
    "\n",
    "    # e, w, a = get_skew_normal_params(g1, g3)\n",
    "    a, w, e = get_skew_normal_params2(g1, g3)\n",
    "    print(e, w, a)\n",
    "    d = a / jnp.sqrt(1 + a * a)\n",
    "    print(\"mean\", e + w * d * jnp.sqrt(2 / jnp.pi))\n",
    "    print(\"var\", w * w * (1 - 2 * d * d / jnp.pi))\n",
    "    print(\n",
    "        \"skew\",\n",
    "        (4 - jnp.pi)\n",
    "        / 2\n",
    "        * (d * jnp.sqrt(2 / jnp.pi)) ** 3\n",
    "        / (1 - 2 * d**2 / jnp.pi) ** (3 / 2),\n",
    "    )\n",
    "\n",
    "    x = jnp.linspace(-40, 10, 1000)\n",
    "    y = scipy.stats.norm(theta_mu, np.sqrt(theta_sigma2)).pdf(x)\n",
    "    xt = (x - theta_mu) / theta_sigma\n",
    "    # y2 = skew_normal_pdf(x, e, w, a)\n",
    "    y2 = scipy.stats.skewnorm(a, e, w).pdf(xt)\n",
    "    # y2 /= theta_sigma\n",
    "    return x, y, y2\n"
   ]
  },
  {
   "cell_type": "markdown",
   "metadata": {},
   "source": [
    "## Skew normal fit using maximum likelihood"
   ]
  },
  {
   "cell_type": "code",
   "execution_count": 22,
   "metadata": {},
   "outputs": [
    {
     "name": "stdout",
     "output_type": "stream",
     "text": [
      "0 14239.719\n",
      "1000 12998.391\n",
      "2000 12926.723\n",
      "3000 12913.816\n",
      "4000 12911.091\n",
      "5000 12910.703\n",
      "6000 12910.682\n",
      "7000 12910.681\n",
      "8000 12910.683\n",
      "9000 12910.682\n"
     ]
    }
   ],
   "source": [
    "import scipy.special\n",
    "\n",
    "def skew_fit():\n",
    "    samples = s1[\"theta\"][0, :, 0]\n",
    "    samples = np.array(samples)\n",
    "    samples = (samples - np.mean(samples)) / np.std(samples)\n",
    "    np.random.shuffle(samples)\n",
    "    x = samples[:10000]\n",
    "    def loss_fn(x0):\n",
    "        e, w, a = x0[0], x0[1]**2, x0[2]\n",
    "        ret = log_skew_normal_pdf(x, e, w, a).sum()\n",
    "        return -ret\n",
    "    \n",
    "    lr = 1e-2\n",
    "    num_steps = 10000\n",
    "    params = np.array([0, 1.0, 0.0])\n",
    "    opt_init, opt_update, get_params = jax.example_libraries.optimizers.adam(lr)\n",
    "    opt_state = opt_init(params)\n",
    "\n",
    "    @jax.jit\n",
    "    def step(step, opt_state):\n",
    "        value, grads = jax.value_and_grad(loss_fn)(get_params(opt_state))\n",
    "        opt_state = opt_update(step, grads, opt_state)\n",
    "        return value, opt_state\n",
    "    \n",
    "    for i in range(num_steps):\n",
    "        value, opt_state = step(i, opt_state)\n",
    "        if i % 1000 == 0:\n",
    "            print(i, value)\n",
    "        assert not jnp.isnan(value).any()\n",
    "\n",
    "\n",
    "    return get_params(opt_state)\n",
    "opt = skew_fit()"
   ]
  },
  {
   "cell_type": "markdown",
   "metadata": {},
   "source": [
    "## Equations from Rue 2009"
   ]
  },
  {
   "cell_type": "markdown",
   "metadata": {},
   "source": [
    "2) gaussian approx at x=mu(theta)\n",
    "\n",
    "p_thetaIy = log_berry_likelihood(vars) - p_x_I_theta_y \n",
    "\n",
    "* Note the last term depends on a fixed theta too\n",
    "\n",
    "$ 2) p(theta|y) = \\text{logberrylikelihood}(vars) - .5 * log(-H(f(x_0)))   $\n",
    "\n",
    "3) p_xiIy = sum(p_xiItheta_y + p_thetaIy for theta in thetas)\n",
    "\n",
    "* times dTheta\n",
    "\n",
    "* p_xiItheta_y is skew normal approximation at MAP"
   ]
  },
  {
   "cell_type": "markdown",
   "metadata": {},
   "source": [
    "$ P(t|y) = P(x, \\theta, y) / \\text{gaussian}(P(x | t, y)) $\n",
    "\n",
    "$ P(x_i|t,y) = P(x, \\theta, y) / \\text{gaussian}(P(x_{-i}|\\theta,y)) $\n",
    "\n",
    "$ P(x_i | y) = \\sum(P(x_i|\\theta,y) P(\\theta|y) \\Delta \\theta) $\n",
    "\n",
    "$ P(x_i | y) = \\sum(P(x_i|\\theta,y) P(\\theta|y) \\Delta \\theta) $\n",
    "\n",
    "$ \\pi_{LA}(x_i | \\theta, y) \\propto N \\left( x_i; \\mu_i(\\theta), \\sigma_i^2(\\theta ) \\right) \\exp \\text{cubicspline}(x_i)$\n",
    "\n",
    "$ \\text{spline}(x_i) = \\pi_{LA} (x_i | \\theta, y) - \\pi_G(x_i| \\theta, y) $\n",
    "\n",
    "$ \\text{spline}(x_i) = \\pi (x, \\theta, y) - \\pi_GG(x_i| \\theta, y) - \\pi_G(x_i| \\theta, y) $"
   ]
  }
 ],
 "metadata": {
  "interpreter": {
   "hash": "4562aada7ed4eaf56c7164663d5227c0c8c0b20a1605820a7bd4ff9a66e9b8dc"
  },
  "kernelspec": {
   "display_name": "Python 3.8.10 ('research-DsWMXX3y')",
   "language": "python",
   "name": "python3"
  },
  "language_info": {
   "codemirror_mode": {
    "name": "ipython",
    "version": 3
   },
   "file_extension": ".py",
   "mimetype": "text/x-python",
   "name": "python",
   "nbconvert_exporter": "python",
   "pygments_lexer": "ipython3",
   "version": "3.8.10"
  },
  "orig_nbformat": 4
 },
 "nbformat": 4,
 "nbformat_minor": 2
}
