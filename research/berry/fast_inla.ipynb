{
 "cells": [
  {
   "cell_type": "code",
   "execution_count": 1,
   "metadata": {},
   "outputs": [],
   "source": [
    "import numpy as np\n",
    "import scipy.stats\n",
    "import matplotlib.pyplot as plt\n",
    "from scipy.special import logit\n",
    "\n",
    "import util\n"
   ]
  },
  {
   "cell_type": "code",
   "execution_count": 18,
   "metadata": {},
   "outputs": [],
   "source": []
  },
  {
   "cell_type": "code",
   "execution_count": 19,
   "metadata": {},
   "outputs": [],
   "source": [
    "N = int(1e2)\n",
    "n_i = np.tile(np.array([20, 20, 35, 35]), (N, 1))\n",
    "y_i = np.tile(np.array([0, 1, 9, 10], dtype=np.float64), (N, 1))\n",
    "data = np.stack((y_i, n_i), axis=2)\n",
    "inla_model = INLA()"
   ]
  },
  {
   "cell_type": "code",
   "execution_count": 20,
   "metadata": {},
   "outputs": [
    {
     "name": "stdout",
     "output_type": "stream",
     "text": [
      "9\n",
      "CPU times: user 7.02 ms, sys: 1.17 ms, total: 8.19 ms\n",
      "Wall time: 7.28 ms\n"
     ]
    }
   ],
   "source": [
    "%%time\n",
    "sigma2_post = inla_model.inference(y_i, n_i)"
   ]
  },
  {
   "cell_type": "code",
   "execution_count": 22,
   "metadata": {},
   "outputs": [],
   "source": [
    "correct = np.array(\n",
    "    [\n",
    "        1.25954474e02,\n",
    "        4.52520893e02,\n",
    "        8.66625278e02,\n",
    "        5.08333300e02,\n",
    "        1.30365045e02,\n",
    "        2.20403048e01,\n",
    "        3.15183578e00,\n",
    "        5.50967224e-01,\n",
    "        2.68365061e-01,\n",
    "        1.23585852e-01,\n",
    "        1.13330444e-02,\n",
    "        5.94800210e-04,\n",
    "        4.01075571e-05,\n",
    "        4.92782335e-06,\n",
    "        1.41605356e-06,\n",
    "    ]\n",
    ")\n",
    "np.testing.assert_allclose(sigma2_post[0], correct, rtol=1e-3)\n"
   ]
  },
  {
   "cell_type": "code",
   "execution_count": 8,
   "metadata": {},
   "outputs": [],
   "source": [
    "import berry\n",
    "import quadrature\n",
    "\n",
    "arm_idx = 0\n",
    "ti_N = 61\n",
    "ti_rule = util.simpson_rule(ti_N, -6.0, 2.0)\n",
    "\n",
    "b = berry.Berry()\n",
    "integrate_dims = [0, 1, 2, 3]\n",
    "integrate_dims.remove(arm_idx)\n",
    "quad_p_ti_g_y = quadrature.integrate(\n",
    "    b,\n",
    "    data[\n",
    "        :1,\n",
    "    ],\n",
    "    integrate_sigma2=True,\n",
    "    integrate_thetas=integrate_dims,\n",
    "    fixed_dims={arm_idx: ti_rule},\n",
    "    n_theta=9,\n",
    ")\n",
    "quad_p_ti_g_y /= np.sum(quad_p_ti_g_y * ti_rule.wts, axis=1)[:, None]\n"
   ]
  },
  {
   "cell_type": "code",
   "execution_count": 9,
   "metadata": {},
   "outputs": [
    {
     "data": {
      "image/png": "[encoded data removed]",
      "text/plain": [
       "<Figure size 432x288 with 1 Axes>"
      ]
     },
     "metadata": {
      "needs_background": "light"
     },
     "output_type": "display_data"
    }
   ],
   "source": [
    "theta_i_sigma = np.sqrt(np.diagonal(-np.linalg.inv(hess[0]), axis1=1, axis2=2))\n",
    "theta_i_mu = theta_max\n",
    "gaussian_pdf = scipy.stats.norm.pdf(\n",
    "    ti_rule.pts[:, None],\n",
    "    theta_i_mu[:1, :, arm_idx],\n",
    "    theta_i_sigma[None, :, arm_idx],\n",
    ")\n",
    "gaussian_p_ti_g_y = np.sum(\n",
    "    gaussian_pdf * sigma2_post[0] * sigma2_rule.wts[None, :], axis=1\n",
    ")\n",
    "plt.plot(ti_rule.pts, gaussian_p_ti_g_y, \"r-o\", markersize=3, label=\"INLA-Gaussian\")\n",
    "plt.plot(ti_rule.pts, quad_p_ti_g_y[0], \"b-o\", markersize=3, label=\"Quad\")\n",
    "plt.legend()\n",
    "plt.show()\n"
   ]
  },
  {
   "cell_type": "code",
   "execution_count": null,
   "metadata": {},
   "outputs": [],
   "source": []
  }
 ],
 "metadata": {
  "interpreter": {
   "hash": "a9637099bd81b2ef0895c64d539356b45819bc945d59d426757b1f51ae370d50"
  },
  "kernelspec": {
   "display_name": "Python 3.10.2 ('kevlar')",
   "language": "python",
   "name": "python3"
  },
  "language_info": {
   "codemirror_mode": {
    "name": "ipython",
    "version": 3
   },
   "file_extension": ".py",
   "mimetype": "text/x-python",
   "name": "python",
   "nbconvert_exporter": "python",
   "pygments_lexer": "ipython3",
   "version": "3.10.2"
  },
  "orig_nbformat": 4
 },
 "nbformat": 4,
 "nbformat_minor": 2
}
